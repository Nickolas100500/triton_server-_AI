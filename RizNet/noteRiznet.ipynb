{
 "cells": [
  {
   "cell_type": "markdown",
   "metadata": {},
   "source": [
    " ## налаштовує ResNet152 з попередньо навчиними вагами"
   ]
  },
  {
   "cell_type": "code",
   "execution_count": 2,
   "metadata": {},
   "outputs": [],
   "source": [
    "import torch\n",
    "import torchvision.models as models\n",
    "import torchvision.transforms as transforms\n",
    "from PIL import Image\n",
    "\n",
    "# Load ImageNet class names\n",
    "with open('imagenet_classes.txt') as f:\n",
    "    class_names = [line.strip() for line in f.readlines()]\n",
    "\n",
    "# Load pre-trained ResNet152 with correct API\n",
    "model = models.resnet152(weights=models.ResNet152_Weights.IMAGENET1K_V1)\n",
    "\n",
    "device = torch.device('cuda' if torch.cuda.is_available() else 'cpu')\n",
    "model.to(device)\n",
    "model.eval()\n",
    "\n",
    "# Image preprocessing\n",
    "preprocess = transforms.Compose([\n",
    "    transforms.Resize(256),\n",
    "    transforms.CenterCrop(224),\n",
    "    transforms.ToTensor(), \n",
    "    transforms.Normalize(mean=[0.485, 0.456, 0.406], std=[0.229, 0.224, 0.225]),\n",
    "])"
   ]
  },
  {
   "cell_type": "markdown",
   "metadata": {},
   "source": [
    "---"
   ]
  },
  {
   "cell_type": "markdown",
   "metadata": {},
   "source": [
    "Добавим софтмакс прямо в архтектуру"
   ]
  },
  {
   "cell_type": "code",
   "execution_count": null,
   "metadata": {},
   "outputs": [],
   "source": [
    "import torch.nn as nn\n",
    "\n",
    "# Load pre-trained ResNet152 with correct API\n",
    "model = models.resnet152(weights=models.ResNet152_Weights.IMAGENET1K_V1)\n",
    "\n",
    "# Add Softmax layer at the end\n",
    "model = nn.Sequential(\n",
    "    model,  # Original ResNet152\n",
    "    nn.Softmax(dim=1)  # Adds Softmax to convert outputs to probabilities\n",
    ")\n",
    "\n",
    "device = torch.device('cuda' if torch.cuda.is_available() else 'cpu')\n",
    "model.to(device)\n",
    "model.eval()"
   ]
  },
  {
   "cell_type": "markdown",
   "metadata": {},
   "source": [
    "# ONNX"
   ]
  },
  {
   "cell_type": "code",
   "execution_count": null,
   "metadata": {},
   "outputs": [],
   "source": [
    "# Экспорт модели в формат ONNX\n",
    "dummy_input = torch.randn(1, 3, 224, 224, device=device)  # Пример входного тензора\n",
    "onnx_file_path = \"model.onnx\"  # Путь для сохранения ONNX файла\n",
    "\n",
    "# Экспорт модели\n",
    "with torch.no_grad():\n",
    "    torch.onnx.export(\n",
    "        model,  # Модель PyTorch\n",
    "        dummy_input,  # Пример входных данных\n",
    "        onnx_file_path,  # Путь для сохранения ONNX файла\n",
    "        export_params=True,  # Экспортировать обученные параметры\n",
    "        opset_version=14,  # Версия ONNX операторов\n",
    "        do_constant_folding=True,  # Оптимизация констант\n",
    "        input_names=[\"input\"],  # Имя входного тензора\n",
    "        output_names=[\"output\"],  # Имя выходного тензора\n",
    "        dynamic_axes={\n",
    "            \"input\": {0: \"batch_size\"},  # Динамический размер батча\n",
    "            \"output\": {0: \"batch_size\"},\n",
    "        },\n",
    "    )\n",
    "\n",
    "print(f\"Модель успешно экспортирована в файл: {onnx_file_path}\")  "
   ]
  }
 ],
 "metadata": {
  "kernelspec": {
   "display_name": "Python 3",
   "language": "python",
   "name": "python3"
  },
  "language_info": {
   "codemirror_mode": {
    "name": "ipython",
    "version": 3
   },
   "file_extension": ".py",
   "mimetype": "text/x-python",
   "name": "python",
   "nbconvert_exporter": "python",
   "pygments_lexer": "ipython3",
   "version": "3.10.11"
  }
 },
 "nbformat": 4,
 "nbformat_minor": 2
}
