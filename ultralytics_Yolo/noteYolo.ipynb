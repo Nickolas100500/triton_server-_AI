{
 "cells": [
  {
   "cell_type": "code",
   "execution_count": null,
   "id": "029053b1",
   "metadata": {},
   "outputs": [
    {
     "name": "stdout",
     "output_type": "stream",
     "text": [
      "GPU count: 1\n",
      "Device 0: NVIDIA GeForce GTX 1060\n",
      "NVIDIA GeForce GTX 1060\n",
      "tensorrt version: 8.5.2.2\n",
      "torch version: 2.4.1+cpu\n",
      "ultralytics version: 8.3.214\n"
     ]
    }
   ],
   "source": [
    "import tensorrt;\n",
    "import torch\n",
    "import ultralytics\n",
    "import pycuda.driver as cuda\n",
    "import pycuda.driver as cuda\n",
    "cuda.init()\n",
    "print(f\"GPU count: {cuda.Device.count()}\")\n",
    "print(f\"Device 0: {cuda.Device(0).name()}\")\n",
    "\n",
    "\n",
    "print(cuda.Device(0).name())  # має вивести твою відеокарту\n",
    "print(f\"tensorrt version: {tensorrt.__version__}\")\n",
    "\n",
    "print(f\"torch version: {torch.__version__}\")\n",
    "print(f\"ultralytics version: {ultralytics.__version__}\")"
   ]
  }
 ],
 "metadata": {
  "kernelspec": {
   "display_name": "trt",
   "language": "python",
   "name": "python3"
  },
  "language_info": {
   "codemirror_mode": {
    "name": "ipython",
    "version": 3
   },
   "file_extension": ".py",
   "mimetype": "text/x-python",
   "name": "python",
   "nbconvert_exporter": "python",
   "pygments_lexer": "ipython3",
   "version": "3.10.18"
  }
 },
 "nbformat": 4,
 "nbformat_minor": 5
}
